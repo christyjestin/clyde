{
 "cells": [
  {
   "cell_type": "code",
   "execution_count": 1,
   "metadata": {},
   "outputs": [
    {
     "name": "stderr",
     "output_type": "stream",
     "text": [
      "/home/cthewolf/Installations/anaconda3/envs/clyde/lib/python3.12/site-packages/tqdm/auto.py:21: TqdmWarning: IProgress not found. Please update jupyter and ipywidgets. See https://ipywidgets.readthedocs.io/en/stable/user_install.html\n",
      "  from .autonotebook import tqdm as notebook_tqdm\n"
     ]
    }
   ],
   "source": [
    "import numpy as np\n",
    "import jax.numpy as jnp\n",
    "import matplotlib.pyplot as plt\n",
    "from datasets import load_dataset\n",
    "\n",
    "from utils import *\n",
    "from patch_kmeans import get_latest_checkpoint"
   ]
  },
  {
   "cell_type": "code",
   "execution_count": null,
   "metadata": {},
   "outputs": [],
   "source": [
    "def visualize_kmeans(imgs, patch_size, k, save_dir: str = \"outputs\"):\n",
    "    latest = get_latest_checkpoint(patch_size, k)\n",
    "    if latest == -1:\n",
    "        print(f'No saved means for the configuration: patch_size = {patch_size}, k = {k}')\n",
    "        print('Running with random init...')\n",
    "        means = jnp.array(np.random.rand(k, patch_size * patch_size), dtype=jnp.float32)\n",
    "        # we want our means to be unit vectors\n",
    "        means = means / jnp.linalg.norm(means, axis=1, keepdims=True)\n",
    "    else:\n",
    "        print(f'Using checkpoint {KMEANS_DIR}/{patch_size}/{k}/{latest}.npy...')\n",
    "        means = jnp.load(f'{KMEANS_DIR}/{patch_size}/{k}/{latest}.npy')\n",
    "\n",
    "\n",
    "    size_squared = patch_size * patch_size # s\n",
    "    patches = jnp.concat([patchify(jnp.array(img), patch_size) for img in imgs]) # p x s x 3\n",
    "    # min color over patch\n",
    "    min_val = jnp.min(patches, axis=1, keepdims=True) # p x 1 x 3\n",
    "    patches = (patches - min_val).astype(jnp.float32) # p x s x 3\n",
    "    # treat each color channel as its own vector\n",
    "    patches = jnp.moveaxis(patches, 2, 1).reshape(-1, size_squared) # 3p x s\n",
    "    norms = jnp.linalg.norm(patches, axis=1, keepdims=True) # 3p x 1\n",
    "    vectors = means[jnp.argmax(patches @ means.T, axis=1)] # 3p x s\n",
    "    # scale vectors\n",
    "    vectors = norms * vectors\n",
    "    # split vectors back into color channels\n",
    "    vectors = jnp.moveaxis(vectors.reshape(-1, 3, size_squared), 2, 1) # p x s x 3\n",
    "    reconstructed = min_val + vectors # p x 1 x s\n",
    "\n",
    "    start_idx = 0\n",
    "    for i, img in enumerate(imgs):\n",
    "        arr = np.array(img)\n",
    "        h, w, _ = arr.shape\n",
    "        ph, pw = h // patch_size, w // patch_size\n",
    "        # grab relevant patches\n",
    "        arr_hat = reconstructed[start_idx : start_idx + ph * pw]\n",
    "        # unflatten each patch\n",
    "        arr_hat = arr_hat.reshape(-1, patch_size, patch_size, 3)\n",
    "        # restructure the patches from concatenated columns into grid\n",
    "        # first split up into columns and stack them along the x-axis\n",
    "        arr_hat = jnp.concat(jnp.split(arr_hat, pw), axis=2)\n",
    "        # then drop the patch axis and fuse the rows along the y-axis\n",
    "        arr_hat = jnp.concat(jnp.unstack(arr_hat))\n",
    "\n",
    "        # shift pointer\n",
    "        start_idx += ph * pw\n",
    "        # save images\n",
    "        plt.imsave(f'{save_dir}/kmeans_{i}_real.png', arr[:ph * patch_size, :pw * patch_size])\n",
    "        plt.imsave(f'{save_dir}/kmeans_{i}_recon.png', np.array(arr_hat, dtype=np.uint8))"
   ]
  },
  {
   "cell_type": "code",
   "execution_count": 3,
   "metadata": {},
   "outputs": [],
   "source": [
    "ds = load_dataset('nlphuji/flickr30k', split='test').select_columns('image').shuffle()"
   ]
  },
  {
   "cell_type": "code",
   "execution_count": 4,
   "metadata": {},
   "outputs": [
    {
     "name": "stderr",
     "output_type": "stream",
     "text": [
      "An NVIDIA GPU may be present on this machine, but a CUDA-enabled jaxlib is not installed. Falling back to cpu.\n"
     ]
    },
    {
     "name": "stdout",
     "output_type": "stream",
     "text": [
      "No saved means for the configuration: patch_size = 20, k = 800\n",
      "Running with random init...\n"
     ]
    }
   ],
   "source": [
    "visualize_kmeans(ds[:20]['image'], 20, 800, save_dir = \"temp\")"
   ]
  }
 ],
 "metadata": {
  "kernelspec": {
   "display_name": "clyde",
   "language": "python",
   "name": "python3"
  },
  "language_info": {
   "codemirror_mode": {
    "name": "ipython",
    "version": 3
   },
   "file_extension": ".py",
   "mimetype": "text/x-python",
   "name": "python",
   "nbconvert_exporter": "python",
   "pygments_lexer": "ipython3",
   "version": "3.12.9"
  }
 },
 "nbformat": 4,
 "nbformat_minor": 2
}
