{
 "cells": [
  {
   "cell_type": "code",
   "execution_count": null,
   "metadata": {},
   "outputs": [],
   "source": [
    "import numpy as np\n",
    "import jax.numpy as jnp\n",
    "import matplotlib.pyplot as plt\n",
    "from PIL import Image\n",
    "\n",
    "from utils import patchify"
   ]
  },
  {
   "cell_type": "code",
   "execution_count": null,
   "metadata": {},
   "outputs": [],
   "source": [
    "img = jnp.array(Image.open('example_imgs/image copy 2.png'), dtype=jnp.bfloat16)\n",
    "h, w, _ = img.shape\n",
    "arr = img.reshape(-1, 3)"
   ]
  },
  {
   "cell_type": "code",
   "execution_count": null,
   "metadata": {},
   "outputs": [],
   "source": [
    "grad = jnp.zeros_like(img)\n",
    "patch_size = 5\n",
    "stds = jnp.linalg.norm(jnp.std(patchify(grad - img, patch_size), axis=1), axis=-1)\n",
    "std = jnp.stack(jnp.split(stds, w // patch_size), axis=-1)\n",
    "plt.imsave('temp.png', np.array(jnp.clip(std, max=255), dtype=np.uint8))"
   ]
  }
 ],
 "metadata": {
  "kernelspec": {
   "display_name": "clyde",
   "language": "python",
   "name": "python3"
  },
  "language_info": {
   "name": "python",
   "version": "3.12.9"
  }
 },
 "nbformat": 4,
 "nbformat_minor": 2
}
