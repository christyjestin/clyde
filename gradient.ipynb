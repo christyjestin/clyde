{
 "cells": [
  {
   "cell_type": "code",
   "execution_count": 1,
   "metadata": {},
   "outputs": [],
   "source": [
    "import numpy as np\n",
    "import jax.numpy as jnp\n",
    "import jax.lax\n",
    "import matplotlib.pyplot as plt\n",
    "from PIL import Image\n",
    "from tqdm import tqdm\n",
    "\n",
    "from utils import patchify"
   ]
  },
  {
   "cell_type": "code",
   "execution_count": 2,
   "metadata": {},
   "outputs": [
    {
     "name": "stderr",
     "output_type": "stream",
     "text": [
      "An NVIDIA GPU may be present on this machine, but a CUDA-enabled jaxlib is not installed. Falling back to cpu.\n"
     ]
    }
   ],
   "source": [
    "img = jnp.array(Image.open('example_imgs/teletubbies.webp'), dtype=jnp.bfloat16)\n",
    "h, w, _ = img.shape"
   ]
  },
  {
   "cell_type": "code",
   "execution_count": null,
   "metadata": {},
   "outputs": [],
   "source": [
    "eps = 0.5\n",
    "# dists is a very large matrix so it has to be computed in chunks\n",
    "def compute_weights(chunk, points):\n",
    "    dists = jnp.linalg.norm(jnp.expand_dims(chunk, axis=1) - jnp.expand_dims(points, axis=0), axis=2) # n x p\n",
    "    # set a small epsilon to avoid division by zero\n",
    "    dists = dists.at[dists == 0].set(eps)\n",
    "    # weight is inversely proportional to distance\n",
    "    weights = jnp.reciprocal(dists)\n",
    "    # consider only the `k` closest anchor points for each pixel\n",
    "    return jax.lax.top_k(weights, 5) # n x k"
   ]
  },
  {
   "cell_type": "code",
   "execution_count": null,
   "metadata": {},
   "outputs": [],
   "source": [
    "k = 4 # how many nearby points to use for the gradients\n",
    "num_iters = 12\n",
    "indices = jnp.stack(jnp.meshgrid(np.arange(h), jnp.arange(w), indexing='ij'), axis=-1).reshape(-1, 2)\n",
    "# jnp arrays can't be empty so we initialize with the center of the image\n",
    "# indices of points to take from the image to compute gradients\n",
    "points = jnp.array([[h // 2, w // 2]])\n",
    "# the colors of those points\n",
    "point_colors = img[jnp.unstack(points, axis=1)]\n",
    "grad = jnp.zeros_like(img) # the gradient reconstruction\n",
    "# this helps split up the distance computation into manageable chunks\n",
    "split_limit = int(1e6)\n",
    "for iter in tqdm(range(num_iters)):\n",
    "    # analyze patches at different levels of granularity to determine\n",
    "    # whether more points are needed to improve the patch's fidelity\n",
    "    patch_size = int(30 * 0.75 ** iter)\n",
    "    if patch_size < 1:\n",
    "        break\n",
    "    patches = patchify(grad - img, patch_size)\n",
    "    means = jnp.abs(jnp.mean(patches, axis=(1, 2)))\n",
    "    stds = jnp.linalg.norm(jnp.std(patches, axis=1), axis=-1)\n",
    "\n",
    "    # determine new points and map to grid coordinates\n",
    "    # alternate strategy of only selecting the patches that are the furthest off\n",
    "    # _, top_mean_indices = jax.lax.top_k(means, min(means.shape[0], 900))\n",
    "    # add_new_point = jnp.zeros_like(means, dtype=jnp.bool).at[top_mean_indices].set(True)\n",
    "    add_new_point = means > 5\n",
    "    # patches with (relatively) low variation are good candidates because they're simpler\n",
    "    if patch_size > 6:\n",
    "        add_new_point = jnp.logical_and(add_new_point, stds < patch_size * 3)\n",
    "    # unflatten and map from bools to actual indices\n",
    "    add_new_point = jnp.stack(jnp.split(add_new_point, w // patch_size), axis=-1)\n",
    "    grid = jnp.meshgrid(np.arange(h // patch_size), jnp.arange(w // patch_size), indexing='ij')\n",
    "    grid = jnp.stack(grid, axis=-1)\n",
    "\n",
    "    # resolve to full coordinates by adding some noise\n",
    "    new_points = grid[add_new_point] * patch_size\n",
    "    # variation within the current grid cell\n",
    "    coordinate_noise = np.random.randint(0, patch_size, 2 * new_points.shape[0])\n",
    "    coordinate_noise = jnp.stack(jnp.split(coordinate_noise, 2), axis = -1)\n",
    "    new_points = new_points + coordinate_noise\n",
    "\n",
    "    # add new points\n",
    "    points = jnp.append(points, new_points, axis=0)\n",
    "    point_colors = jnp.append(point_colors, img[jnp.unstack(new_points, axis=1)], axis=0)\n",
    "\n",
    "    # reconstruct the image\n",
    "    # split up the computation to avoid memory overflow\n",
    "    num_splits = (indices.shape[0] * points.shape[0]) // split_limit\n",
    "    chunks = jnp.array_split(indices, num_splits)\n",
    "    weight_chunks = [compute_weights(chunk, points) for chunk in chunks]\n",
    "    # recompute gradients\n",
    "    weight_chunks, top_k_chunks = tuple(zip(*weight_chunks))\n",
    "    # consider only the `k` closest anchor points\n",
    "    weights, top_k_indices = jnp.concat(weight_chunks), jnp.concat(top_k_chunks)\n",
    "    # weighted average of anchor colors where the weight is inversely proportional to distance\n",
    "    weights = weights / jnp.sum(weights, axis = 1, keepdims=True)\n",
    "    grad = jnp.sum(point_colors[top_k_indices] * jnp.expand_dims(weights, axis=-1), axis=1) # n x k x 3 -> n x 3\n",
    "    grad = grad.reshape(h, w, 3) # n x 3 -> h x w x 3\n",
    "    plt.imsave(f'grad/{iter}.png', np.array(grad, dtype=np.uint8))"
   ]
  }
 ],
 "metadata": {
  "kernelspec": {
   "display_name": "clyde",
   "language": "python",
   "name": "python3"
  },
  "language_info": {
   "codemirror_mode": {
    "name": "ipython",
    "version": 3
   },
   "file_extension": ".py",
   "mimetype": "text/x-python",
   "name": "python",
   "nbconvert_exporter": "python",
   "pygments_lexer": "ipython3",
   "version": "3.12.9"
  }
 },
 "nbformat": 4,
 "nbformat_minor": 2
}
