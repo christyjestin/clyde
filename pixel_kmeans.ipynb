{
 "cells": [
  {
   "cell_type": "code",
   "execution_count": 1,
   "metadata": {},
   "outputs": [],
   "source": [
    "import os, glob\n",
    "import numpy as np\n",
    "from PIL import Image\n",
    "import matplotlib.pyplot as plt\n",
    "import jax.numpy as jnp"
   ]
  },
  {
   "cell_type": "code",
   "execution_count": 2,
   "metadata": {},
   "outputs": [],
   "source": [
    "# runs the k-means algorithm on pixels from an input image (this could be used for lossy compression)\n",
    "def kmeans(img: Image.Image, name: str, save_dir: str = \"outputs\", num_iters: int = 3):\n",
    "    arr = jnp.array(img, dtype=jnp.float16)\n",
    "    shape = arr.shape # save original shape to help produce output\n",
    "    assert len(shape) == 3 and shape[2] == 3, f\"Invalid shape: {shape}\"\n",
    "\n",
    "    os.makedirs(save_dir, exist_ok=True)\n",
    "    # clear any existing versions of this image to avoid confusion\n",
    "    for f in glob.glob(f\"{save_dir}/{name}_*.png\"):\n",
    "        os.remove(f)\n",
    "\n",
    "    arr = arr.reshape((-1, 3))\n",
    "    # use more clusters for images with higher variance\n",
    "    k = int(jnp.linalg.norm(jnp.std(arr, axis=0))) * 3\n",
    "    print(f\"k is {k} for the image {name}\")\n",
    "\n",
    "    # init with random pixels from the image\n",
    "    means = jnp.array(arr[np.random.choice(arr.shape[0], k, replace=False)], dtype=jnp.float32) # k x 3\n",
    "    # clusters[i] := the cluster for pixel i where i is an index into the flattened array\n",
    "    clusters = jnp.zeros(arr.shape[0], dtype=jnp.int32)\n",
    "\n",
    "    for iter in range(num_iters):\n",
    "        old_clusters = clusters.copy() # save for comparison\n",
    "\n",
    "        # find best fit (this op is m x 3, n x 3 -> m x 1 x 3, 1 x n x 3 -> m x n)\n",
    "        dists = jnp.linalg.norm(jnp.expand_dims(arr, axis=1) - jnp.expand_dims(means, axis=0), axis=2)\n",
    "        clusters = jnp.argmin(dists, axis=1)\n",
    "        if jnp.array_equal(clusters, old_clusters):\n",
    "            print(f\"The algorithm converged after {iter} iteration(s)\")\n",
    "            break\n",
    "\n",
    "        # compute new means\n",
    "        # cluster_sizes := number of pixels per cluster; we precompute this for the next step\n",
    "        cluster_sizes = jnp.expand_dims(jnp.zeros(k, dtype=jnp.int32).at[clusters].add(1), axis=1) # k x 1\n",
    "        # all of the pixels from cluster i get summed up to compute the new mean for cluster i\n",
    "        # N.B. we do the division step before the summation step to avoid overflow\n",
    "        means = jnp.zeros_like(means).at[clusters].add(arr / cluster_sizes[clusters])\n",
    "\n",
    "        # visualize current iteration\n",
    "        plt.imsave(f\"{save_dir}/{name}_{iter}.png\", np.array(means[clusters].reshape(shape), dtype=np.uint8))"
   ]
  },
  {
   "cell_type": "code",
   "execution_count": 3,
   "metadata": {},
   "outputs": [
    {
     "name": "stderr",
     "output_type": "stream",
     "text": [
      "An NVIDIA GPU may be present on this machine, but a CUDA-enabled jaxlib is not installed. Falling back to cpu.\n"
     ]
    },
    {
     "name": "stdout",
     "output_type": "stream",
     "text": [
      "k is 318 for the image pink_fields\n"
     ]
    }
   ],
   "source": [
    "kmeans(Image.open(\"example_imgs/ali.webp\"), \"ali\")"
   ]
  }
 ],
 "metadata": {
  "kernelspec": {
   "display_name": "base",
   "language": "python",
   "name": "python3"
  },
  "language_info": {
   "codemirror_mode": {
    "name": "ipython",
    "version": 3
   },
   "file_extension": ".py",
   "mimetype": "text/x-python",
   "name": "python",
   "nbconvert_exporter": "python",
   "pygments_lexer": "ipython3",
   "version": "3.9.7"
  }
 },
 "nbformat": 4,
 "nbformat_minor": 2
}
